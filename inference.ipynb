{
 "cells": [
  {
   "cell_type": "code",
   "execution_count": 2,
   "metadata": {},
   "outputs": [],
   "source": [
    "import os\n",
    "\n",
    "import torch\n",
    "from IPython import embed\n",
    "from PIL import Image\n",
    "from torchvision import transforms\n",
    "\n",
    "from indoor_scenes.config import USED_ROOM_TYPES, parse_args\n",
    "from indoor_scenes.network import get_network\n",
    "from indoor_scenes.lib.inference import inference\n",
    "\n",
    "args, _ = parse_args()\n",
    "args.arch = \"vit_b16\"\n",
    "args.resolution = 224\n",
    "data_root = '/home/tb5zhh/1UnKg1rAb8A'\n",
    "data_list = [f\"{data_root}/{i}\" for i in  sorted(os.listdir(data_root))]\n",
    "\n",
    "for path, label in inference(data_list, '/home/tb5zhh/SWAG/epoch#99.pth', args):\n",
    "    display(Image.open(path))\n",
    "    display(label)"
   ]
  },
  {
   "cell_type": "markdown",
   "metadata": {},
   "source": []
  }
 ],
 "metadata": {
  "interpreter": {
   "hash": "90a0305c12d8eea5f10bccd1ef80b48d29613b8f03b1868fa7459daade9f2dd2"
  },
  "kernelspec": {
   "display_name": "Python 3.8.13 ('swag')",
   "language": "python",
   "name": "python3"
  },
  "language_info": {
   "codemirror_mode": {
    "name": "ipython",
    "version": 3
   },
   "file_extension": ".py",
   "mimetype": "text/x-python",
   "name": "python",
   "nbconvert_exporter": "python",
   "pygments_lexer": "ipython3",
   "version": "3.8.13"
  },
  "orig_nbformat": 4
 },
 "nbformat": 4,
 "nbformat_minor": 2
}
